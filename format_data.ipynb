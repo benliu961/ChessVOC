{
 "cells": [
  {
   "cell_type": "code",
   "execution_count": 38,
   "metadata": {},
   "outputs": [],
   "source": [
    "import pandas as pd\n",
    "import numpy as np\n",
    "import os"
   ]
  },
  {
   "cell_type": "code",
   "execution_count": 39,
   "metadata": {},
   "outputs": [
    {
     "name": "stdout",
     "output_type": "stream",
     "text": [
      "data\\d1\\data_file_0.csv\n",
      "data\\d1\\data_file_1.csv\n",
      "data\\d2\\data_file_10.csv\n",
      "data\\d2\\data_file_100.csv\n",
      "data\\d2\\data_file_1000.csv\n"
     ]
    }
   ],
   "source": [
    "directory = \"data\"\n",
    "\n",
    "f = open(\"data.plain\",\"w\")\n",
    "\n",
    "for filename in os.listdir(directory):\n",
    "    sub_dir = os.path.join(directory, filename)\n",
    "    # checking if it is a file\n",
    "    if os.path.isfile(sub_dir):\n",
    "        print(sub_dir)\n",
    "    \n",
    "    if os.path.isdir(sub_dir):\n",
    "        for filename in os.listdir(sub_dir):\n",
    "            data_str = os.path.join(sub_dir, filename)\n",
    "            if os.path.isfile(data_str):\n",
    "                print(data_str)\n",
    "\n",
    "                data = pd.read_csv(data_str)\n",
    "\n",
    "                for index, row in data.iterrows():\n",
    "                    f.write(\"fen \")\n",
    "                    f.write(row[\"fen\"])\n",
    "                    f.write(\"\\n\")\n",
    "                    f.write(\"move \")\n",
    "                    f.write(row[\"move\"])\n",
    "                    f.write(\"\\n\")\n",
    "                    f.write(\"score \")\n",
    "                    f.write(str(row[\"voc\"]))\n",
    "                    f.write(\"\\n\")\n",
    "                    f.write(\"ply \")\n",
    "                    f.write(str(row[\"ply\"]))\n",
    "                    f.write(\"\\n\")\n",
    "                    f.write(\"result \")\n",
    "                    f.write(str(row[\"result\"]))\n",
    "                    f.write(\"\\n\")\n",
    "                    f.write(\"e\\n\")"
   ]
  },
  {
   "cell_type": "code",
   "execution_count": null,
   "metadata": {},
   "outputs": [],
   "source": []
  }
 ],
 "metadata": {
  "kernelspec": {
   "display_name": "Python 3",
   "language": "python",
   "name": "python3"
  },
  "language_info": {
   "codemirror_mode": {
    "name": "ipython",
    "version": 3
   },
   "file_extension": ".py",
   "mimetype": "text/x-python",
   "name": "python",
   "nbconvert_exporter": "python",
   "pygments_lexer": "ipython3",
   "version": "3.10.5"
  },
  "orig_nbformat": 4,
  "vscode": {
   "interpreter": {
    "hash": "db2096b5a6868d4aa3d41bd168b61e616189861e76b0668de4f22c4beaf8293c"
   }
  }
 },
 "nbformat": 4,
 "nbformat_minor": 2
}
