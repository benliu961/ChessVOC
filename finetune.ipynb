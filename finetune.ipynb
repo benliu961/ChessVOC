{
 "cells": [
  {
   "cell_type": "code",
   "execution_count": 4,
   "metadata": {},
   "outputs": [
    {
     "name": "stdout",
     "output_type": "stream",
     "text": [
      "PyTorch Version:  1.13.1+cpu\n",
      "Torchvision Version:  0.14.1+cpu\n"
     ]
    }
   ],
   "source": [
    "from __future__ import print_function\n",
    "from __future__ import division\n",
    "import torch\n",
    "import torch.nn as nn\n",
    "import torch.optim as optim\n",
    "import numpy as np\n",
    "import torchvision\n",
    "from torchvision import datasets, models, transforms\n",
    "import matplotlib.pyplot as plt\n",
    "import time\n",
    "import os\n",
    "import copy\n",
    "import chess\n",
    "print(\"PyTorch Version: \",torch.__version__)\n",
    "print(\"Torchvision Version: \",torchvision.__version__)\n",
    "\n",
    "NUM_SQ = 64\n",
    "NUM_PT = 10\n",
    "NUM_PLANES = (NUM_SQ * NUM_PT + 1)"
   ]
  },
  {
   "cell_type": "code",
   "execution_count": 5,
   "metadata": {},
   "outputs": [],
   "source": [
    "def orient(is_white_pov: bool, sq: int):\n",
    "    return (63 * (not is_white_pov)) ^ sq\n",
    "\n",
    "def halfkp_idx(is_white_pov: bool, king_sq: int, sq: int, p: chess.Piece):\n",
    "    p_idx = (p.piece_type - 1) * 2 + (p.color != is_white_pov)\n",
    "    return 1 + orient(is_white_pov, sq) + p_idx * NUM_SQ + king_sq * NUM_PLANES\n",
    "\n",
    "\n",
    "def get_active_features(board: chess.Board):\n",
    "    def piece_features(turn):\n",
    "        indices = torch.zeros(NUM_PLANES * NUM_SQ)\n",
    "        for sq, p in board.piece_map().items():\n",
    "            if p.piece_type == chess.KING:\n",
    "                continue\n",
    "            indices[halfkp_idx(turn, orient(turn, board.king(turn)), sq, p)] = 1.0\n",
    "        return indices\n",
    "    return (piece_features(chess.WHITE), piece_features(chess.BLACK))"
   ]
  }
 ],
 "metadata": {
  "kernelspec": {
   "display_name": "Python 3",
   "language": "python",
   "name": "python3"
  },
  "language_info": {
   "codemirror_mode": {
    "name": "ipython",
    "version": 3
   },
   "file_extension": ".py",
   "mimetype": "text/x-python",
   "name": "python",
   "nbconvert_exporter": "python",
   "pygments_lexer": "ipython3",
   "version": "3.10.5"
  },
  "orig_nbformat": 4,
  "vscode": {
   "interpreter": {
    "hash": "db2096b5a6868d4aa3d41bd168b61e616189861e76b0668de4f22c4beaf8293c"
   }
  }
 },
 "nbformat": 4,
 "nbformat_minor": 2
}
